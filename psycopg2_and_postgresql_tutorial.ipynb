{
 "cells": [
  {
   "cell_type": "markdown",
   "metadata": {
    "slideshow": {
     "slide_type": "slide"
    }
   },
   "source": [
    "# pyscopg2でPythonからPostgreSQLにつないでみよう！"
   ]
  },
  {
   "cell_type": "markdown",
   "metadata": {
    "slideshow": {
     "slide_type": "slide"
    }
   },
   "source": [
    "## 自己紹介\n",
    "\n",
    "* 株式会社アシスト勤務\n",
    "* DBエンジニア\n",
    "* PostgreSQL / Oracle 担当\n",
    "* Python歴3年?\n",
    "\n"
   ]
  },
  {
   "cell_type": "markdown",
   "metadata": {
    "slideshow": {
     "slide_type": "slide"
    }
   },
   "source": [
    "## なんでこんなことに\n",
    "\n",
    "* stapy参加5回目(たしか？)\n",
    "* 毎回LTで適当なこと喋ってました\n"
   ]
  },
  {
   "cell_type": "markdown",
   "metadata": {
    "slideshow": {
     "slide_type": "subslide"
    }
   },
   "source": [
    "![](./img/psycopg1.png)"
   ]
  },
  {
   "cell_type": "markdown",
   "metadata": {
    "slideshow": {
     "slide_type": "subslide"
    }
   },
   "source": [
    "![](./img/psycopg2.png)"
   ]
  },
  {
   "cell_type": "markdown",
   "metadata": {
    "slideshow": {
     "slide_type": "subslide"
    }
   },
   "source": [
    "その他のスライド\n",
    "\n",
    "\n",
    "http://www.slideshare.net/satoshiyamada71697"
   ]
  },
  {
   "cell_type": "markdown",
   "metadata": {
    "slideshow": {
     "slide_type": "slide"
    }
   },
   "source": [
    "ら、阿久津さんに目をつけられて本番でやれと。"
   ]
  },
  {
   "cell_type": "markdown",
   "metadata": {
    "slideshow": {
     "slide_type": "slide"
    }
   },
   "source": [
    "### アジェンダ\n",
    "\n",
    "1. PostgreSQL\n",
    "2. psycopg2?\n",
    "3. psycopg2のインストール\n",
    "4. 基本的な使い方"
   ]
  },
  {
   "cell_type": "markdown",
   "metadata": {
    "slideshow": {
     "slide_type": "slide"
    }
   },
   "source": [
    "## PostgreSQL?\n",
    "![](./img/postgres.png)"
   ]
  },
  {
   "cell_type": "markdown",
   "metadata": {
    "slideshow": {
     "slide_type": "slide"
    }
   },
   "source": [
    "## 雑なPostgreSQLの説明\n",
    "\n",
    "* PostgreaSQLはOSSのRDBMS\n",
    "* MySQLと同じで無料で使える!\n",
    "* 有償サポートをしている会社も結構(弊社とか)\n",
    "* MySQLに比べると国内知名度は少し下？\n",
    "* でもMySQLは●racleの政策でちょっと先行き不安\n",
    "* だから、PostgreSQLもっとつかおうず！"
   ]
  },
  {
   "cell_type": "markdown",
   "metadata": {
    "slideshow": {
     "slide_type": "slide"
    }
   },
   "source": [
    "### PostgreSQLのいいところ\n",
    "\n",
    "* アーキテクチャがシンプルな割に機能が豊富(●racleは凄いけと中が複雑で。。)\n",
    "* レプリケーションも簡単\n",
    "* **json**のサポートが手厚い\n"
   ]
  },
  {
   "cell_type": "markdown",
   "metadata": {},
   "source": [
    "#### PostgreSQL動かしたい！\n",
    "\n",
    "[公式](http://www.postgresql.org/download/)から自分の環境にあったものを入手してください。  \n",
    "\n",
    "最近だとdockerやVagrantでもPostgreSQLが入ったイメージがあるので、そちらでもいいでしょう。"
   ]
  },
  {
   "cell_type": "markdown",
   "metadata": {
    "slideshow": {
     "slide_type": "slide"
    }
   },
   "source": [
    "# psycopg2\n",
    "ロゴがほんとにサイコっぽい・・・\n",
    "![](./img/psycopg2_logo.png)"
   ]
  },
  {
   "cell_type": "markdown",
   "metadata": {
    "slideshow": {
     "slide_type": "slide"
    }
   },
   "source": [
    "## Pyscopg2て？\n",
    "\n",
    "* PythonからPostgreSQLにつなぐためのアダプター\n",
    "* PythonからDBを操作する仕様DB-API 2.0準拠\n",
    "* デファクトに近い？(Djangoもdjango.db.backends.postgresql_psycopg2で使う)\n",
    "* Python2.5-2.7,3.1-3.4まで対応\n",
    "* 接続先のPostgreSQLも現在のほぼすべてのリリース対応(7.4〜)"
   ]
  },
  {
   "cell_type": "markdown",
   "metadata": {
    "slideshow": {
     "slide_type": "slide"
    }
   },
   "source": [
    "# psycopg2のインストール方法\n"
   ]
  },
  {
   "cell_type": "markdown",
   "metadata": {
    "slideshow": {
     "slide_type": "slide"
    }
   },
   "source": [
    "普通のパッケージと同じように\n",
    "\n",
    "```\n",
    "pip install psycopg2\n",
    "```\n",
    "\n",
    "で動かせることも多い。けど。。"
   ]
  },
  {
   "cell_type": "markdown",
   "metadata": {
    "slideshow": {
     "slide_type": "fragment"
    }
   },
   "source": [
    "* psycopg2はlibpqというPostgreSQLのCのライブラリに依存\n",
    "* Unix系(Mac含む)はちょとpipは辛いかも？\n",
    "* libpq-dev python-devパッケージあたりがあればいけそうだけど\n",
    "\n",
    "なので、ビルド済みのパッケージ使うほうが楽かも"
   ]
  },
  {
   "cell_type": "markdown",
   "metadata": {
    "slideshow": {
     "slide_type": "slide"
    }
   },
   "source": [
    "\n",
    "#### Windows\n",
    "\n",
    "[ここ](http://www.stickpeople.com/projects/python/win-psycopg/) から対応するインストーラをDLしましょう。  \n",
    "自分が使っているPythonのバージョンやBit数に気をつけてください。"
   ]
  },
  {
   "cell_type": "markdown",
   "metadata": {
    "slideshow": {
     "slide_type": "slide"
    }
   },
   "source": [
    "#### Linux(Ubuntu等のDebian系)\n",
    "\n",
    "ビルドされたパッケージがリポジトリにあります。\n",
    "\n",
    "```\n",
    "sudo apt-get install python-psycopg2\n",
    "```\n"
   ]
  },
  {
   "cell_type": "markdown",
   "metadata": {
    "slideshow": {
     "slide_type": "slide"
    }
   },
   "source": [
    "#### Mac\n",
    "\n",
    "##### finkを使う場合\n",
    "```\n",
    "fink install psycopg2-py27\n",
    "```\n",
    "\n",
    "##### MacPortsを使う場合\n",
    "```\n",
    "sudo port install py27-psycopg2\n",
    "```\n",
    "\n",
    "らしい。Macもってないオワタ\n"
   ]
  },
  {
   "cell_type": "markdown",
   "metadata": {
    "slideshow": {
     "slide_type": "slide"
    }
   },
   "source": [
    "# 基本的な使い方"
   ]
  },
  {
   "cell_type": "markdown",
   "metadata": {
    "slideshow": {
     "slide_type": "slide"
    }
   },
   "source": [
    "だいたいこんな感じで動かすことができます。以下は**localhost:9450**で起動している  \n",
    "**sampledb**というDBへ、**denzow**というユーザ名で**passw0rd**をパスワードとして  \n",
    "接続して処理をするコードです。"
   ]
  },
  {
   "cell_type": "code",
   "execution_count": 3,
   "metadata": {
    "collapsed": false,
    "scrolled": true,
    "slideshow": {
     "slide_type": "-"
    }
   },
   "outputs": [
    {
     "name": "stdout",
     "output_type": "stream",
     "text": [
      "(7782, 'CLARK', 'MANAGER', 7839, datetime.datetime(1981, 6, 9, 0, 0), 2450, None, 10)\n",
      "(7839, 'KING', 'PRESIDENT', None, datetime.datetime(1981, 11, 17, 0, 0), 5000, None, 10)\n",
      "(7934, 'MILLER', 'CLERK', 7782, datetime.datetime(1982, 1, 23, 0, 0), 1300, None, 10)\n"
     ]
    }
   ],
   "source": [
    "# psycopg2を使えるようにして\n",
    "import psycopg2\n",
    "# 接続して\n",
    "conn = psycopg2.connect(\"host=localhost port=9450 dbname=sampledb user=denzow password=passw0rd\")\n",
    "# SQLを投げるためのカーソル作って\n",
    "cur = conn.cursor()\n",
    "# SQLを発行\n",
    "cur.execute(\"select * from emp where deptno=%s\", (10,))\n",
    "# 結果を表示\n",
    "for row in cur:\n",
    "    print(row)\n",
    "# COMMIT!\n",
    "conn.commit()\n",
    "conn.close()"
   ]
  },
  {
   "cell_type": "markdown",
   "metadata": {
    "slideshow": {
     "slide_type": "slide"
    }
   },
   "source": [
    "おそらく、会場の99%の方はローカルにPostgreSQLは入っていないでしょう。それでも手元で\n",
    "コードを試したい場合は、以下を実行してから試してください。  \n",
    "PostgreSQLの代わりにsqlite3のを使用するためのコードです。\n"
   ]
  },
  {
   "cell_type": "code",
   "execution_count": null,
   "metadata": {
    "collapsed": false
   },
   "outputs": [],
   "source": [
    "# postgresqlが用意できない環境ではsqliteを使ってデモを動かします\n",
    "import sqlite3\n",
    "# sqliteは指定したパスにDBファイルを作成して利用します\n",
    "connection = sqlite3.connect(\"./tmp_sqlite.db\")\n",
    "# サンプルとして某EMP・DEPT表をセットアップします。\n",
    "try:\n",
    "    connection.executescript(\"\"\"\n",
    "    drop table emp;\n",
    "    drop table dept;\n",
    "    \"\"\")\n",
    "except:\n",
    "    connection.rollback()\n",
    "connection.executescript(\"\"\"\n",
    "CREATE TABLE EMP\n",
    "       (EMPNO INT NOT NULL,\n",
    "        ENAME VARCHAR(10),\n",
    "        JOB VARCHAR(9),\n",
    "        MGR INT,\n",
    "        HIREDATE TIMESTAMP,\n",
    "        SAL INT,\n",
    "        COMM INT,\n",
    "        DEPTNO INT);\n",
    "\n",
    "INSERT INTO EMP VALUES\n",
    "        (7369, 'SMITH',  'CLERK',     7902,\n",
    "        '17-DEC-1980',  800, NULL, 20);\n",
    "INSERT INTO EMP VALUES\n",
    "        (7499, 'ALLEN',  'SALESMAN',  7698,\n",
    "        '20-FEB-1981', 1600,  300, 30);\n",
    "INSERT INTO EMP VALUES\n",
    "        (7521, 'WARD',   'SALESMAN',  7698,\n",
    "        '22-FEB-1981', 1250,  500, 30);\n",
    "INSERT INTO EMP VALUES\n",
    "        (7566, 'JONES',  'MANAGER',   7839,\n",
    "        '2-APR-1981',  2975, NULL, 20);\n",
    "INSERT INTO EMP VALUES\n",
    "        (7654, 'MARTIN', 'SALESMAN',  7698,\n",
    "        '28-SEP-1981', 1250, 1400, 30);\n",
    "INSERT INTO EMP VALUES\n",
    "        (7698, 'BLAKE',  'MANAGER',   7839,\n",
    "        '1-MAY-1981',  2850, NULL, 30);\n",
    "INSERT INTO EMP VALUES\n",
    "        (7782, 'CLARK',  'MANAGER',   7839,\n",
    "        '9-JUN-1981',  2450, NULL, 10);\n",
    "INSERT INTO EMP VALUES\n",
    "        (7788, 'SCOTT',  'ANALYST',   7566,\n",
    "        '09-DEC-1982', 3000, NULL, 20);\n",
    "INSERT INTO EMP VALUES\n",
    "        (7839, 'KING',   'PRESIDENT', NULL,\n",
    "        '17-NOV-1981', 5000, NULL, 10);\n",
    "INSERT INTO EMP VALUES\n",
    "        (7844, 'TURNER', 'SALESMAN',  7698,\n",
    "        '8-SEP-1981',  1500,    0, 30);\n",
    "INSERT INTO EMP VALUES\n",
    "        (7876, 'ADAMS',  'CLERK',     7788,\n",
    "        '12-JAN-1983', 1100, NULL, 20);\n",
    "INSERT INTO EMP VALUES\n",
    "        (7900, 'JAMES',  'CLERK',     7698,\n",
    "        '3-DEC-1981',   950, NULL, 30);\n",
    "INSERT INTO EMP VALUES\n",
    "        (7902, 'FORD',   'ANALYST',   7566,\n",
    "        '3-DEC-1981',  3000, NULL, 20);\n",
    "INSERT INTO EMP VALUES\n",
    "        (7934, 'MILLER', 'CLERK',     7782,\n",
    "        '23-JAN-1982', 1300, NULL, 10);\n",
    "\n",
    "CREATE TABLE DEPT\n",
    "       (DEPTNO INT,\n",
    "        DNAME VARCHAR(14),\n",
    "        LOC VARCHAR(13));\n",
    "\n",
    "INSERT INTO DEPT VALUES (10, 'ACCOUNTING', 'NEW YORK');\n",
    "INSERT INTO DEPT VALUES (20, 'RESEARCH',   'DALLAS');\n",
    "INSERT INTO DEPT VALUES (30, 'SALES',      'CHICAGO');\n",
    "INSERT INTO DEPT VALUES (40, 'OPERATIONS', 'BOSTON');\n",
    "\"\"\")\n",
    "print(connection)"
   ]
  },
  {
   "cell_type": "markdown",
   "metadata": {
    "slideshow": {
     "slide_type": "slide"
    }
   },
   "source": [
    "PostgreSQLが用意出来ている場合は、以下を実行してください。"
   ]
  },
  {
   "cell_type": "code",
   "execution_count": 8,
   "metadata": {
    "collapsed": false
   },
   "outputs": [
    {
     "name": "stdout",
     "output_type": "stream",
     "text": [
      "<connection object at 0x7fa51e3078c8; dsn: 'host=localhost port=9450 dbname=sampledb user=denzow password=xxxxxxxx', closed: 0>\n"
     ]
    }
   ],
   "source": [
    "import psycopg2 \n",
    "# 接続情報は書き換えてください\n",
    "connection = psycopg2.connect(\"host=localhost port=9450 dbname=sampledb user=denzow password=passw0rd\")\n",
    "cur = connection.cursor()\n",
    "try:\n",
    "    cur.execute(\"\"\"\n",
    "    drop table emp;\n",
    "    drop table dept;\n",
    "    \"\"\")\n",
    "except Exception as e:\n",
    "    print(e)\n",
    "    connection.rollback()\n",
    "# サンプルとして某EMP・DEPT表をセットアップします。\n",
    "cur.execute(\"\"\"\n",
    "CREATE TABLE EMP\n",
    "       (EMPNO INT NOT NULL,\n",
    "        ENAME VARCHAR(10),\n",
    "        JOB VARCHAR(9),\n",
    "        MGR INT,\n",
    "        HIREDATE TIMESTAMP,\n",
    "        SAL INT,\n",
    "        COMM INT,\n",
    "        DEPTNO INT);\n",
    "INSERT INTO EMP VALUES\n",
    "        (7369, 'SMITH',  'CLERK',     7902,\n",
    "        TO_DATE('17-DEC-1980', 'DD-MON-YYYY'),  800, NULL, 20);\n",
    "INSERT INTO EMP VALUES\n",
    "        (7499, 'ALLEN',  'SALESMAN',  7698,\n",
    "        TO_DATE('20-FEB-1981', 'DD-MON-YYYY'), 1600,  300, 30);\n",
    "INSERT INTO EMP VALUES\n",
    "        (7521, 'WARD',   'SALESMAN',  7698,\n",
    "        TO_DATE('22-FEB-1981', 'DD-MON-YYYY'), 1250,  500, 30);\n",
    "INSERT INTO EMP VALUES\n",
    "        (7566, 'JONES',  'MANAGER',   7839,\n",
    "        TO_DATE('2-APR-1981', 'DD-MON-YYYY'),  2975, NULL, 20);\n",
    "INSERT INTO EMP VALUES\n",
    "        (7654, 'MARTIN', 'SALESMAN',  7698,\n",
    "        TO_DATE('28-SEP-1981', 'DD-MON-YYYY'), 1250, 1400, 30);\n",
    "INSERT INTO EMP VALUES\n",
    "        (7698, 'BLAKE',  'MANAGER',   7839,\n",
    "        TO_DATE('1-MAY-1981', 'DD-MON-YYYY'),  2850, NULL, 30);\n",
    "INSERT INTO EMP VALUES\n",
    "        (7782, 'CLARK',  'MANAGER',   7839,\n",
    "        TO_DATE('9-JUN-1981', 'DD-MON-YYYY'),  2450, NULL, 10);\n",
    "INSERT INTO EMP VALUES\n",
    "        (7788, 'SCOTT',  'ANALYST',   7566,\n",
    "        TO_DATE('09-DEC-1982', 'DD-MON-YYYY'), 3000, NULL, 20);\n",
    "INSERT INTO EMP VALUES\n",
    "        (7839, 'KING',   'PRESIDENT', NULL,\n",
    "        TO_DATE('17-NOV-1981', 'DD-MON-YYYY'), 5000, NULL, 10);\n",
    "INSERT INTO EMP VALUES\n",
    "        (7844, 'TURNER', 'SALESMAN',  7698,\n",
    "        TO_DATE('8-SEP-1981', 'DD-MON-YYYY'),  1500,    0, 30);\n",
    "INSERT INTO EMP VALUES\n",
    "        (7876, 'ADAMS',  'CLERK',     7788,\n",
    "        TO_DATE('12-JAN-1983', 'DD-MON-YYYY'), 1100, NULL, 20);\n",
    "INSERT INTO EMP VALUES\n",
    "        (7900, 'JAMES',  'CLERK',     7698,\n",
    "        TO_DATE('3-DEC-1981', 'DD-MON-YYYY'),   950, NULL, 30);\n",
    "INSERT INTO EMP VALUES\n",
    "        (7902, 'FORD',   'ANALYST',   7566,\n",
    "        TO_DATE('3-DEC-1981', 'DD-MON-YYYY'),  3000, NULL, 20);\n",
    "INSERT INTO EMP VALUES\n",
    "        (7934, 'MILLER', 'CLERK',     7782,\n",
    "        TO_DATE('23-JAN-1982', 'DD-MON-YYYY'), 1300, NULL, 10);\n",
    "\n",
    "CREATE TABLE DEPT\n",
    "       (DEPTNO INT,\n",
    "        DNAME VARCHAR(14),\n",
    "        LOC VARCHAR(13));\n",
    "\n",
    "INSERT INTO DEPT VALUES (10, 'ACCOUNTING', 'NEW YORK');\n",
    "INSERT INTO DEPT VALUES (20, 'RESEARCH',   'DALLAS');\n",
    "INSERT INTO DEPT VALUES (30, 'SALES',      'CHICAGO');\n",
    "INSERT INTO DEPT VALUES (40, 'OPERATIONS', 'BOSTON');\n",
    "\"\"\")\n",
    "connection.commit()\n",
    "print(connection)"
   ]
  },
  {
   "cell_type": "markdown",
   "metadata": {
    "slideshow": {
     "slide_type": "slide"
    }
   },
   "source": [
    "#### 接続について(connect)\n",
    "\n",
    "以下を**connect()**の引数として指定できます。connectの引数は\n",
    "\n",
    "> connect(\"DB接続文字列\")\n",
    "\n",
    "という形式で文字列(DSN文字列)として情報を指定する方法と\n",
    "\n",
    "> connect(database=\"...\", host=\"\",...)\n",
    "\n",
    "といった名前付きパラメータとして渡す2種類があります。\n",
    "\n",
    "|引数名|意味|\n",
    "|----|------|\n",
    "|dbname|接続DB名。DSN文字列の時に使う|\n",
    "|database|接続DB名。名前付きパラメータの時に使う|\n",
    "|user|接続に使用するDBユーザ名|\n",
    "|password|接続に使用するDBユーザ名のパスワード|\n",
    "|host|接続先のアドレス。省略時はUNIXドメインソケットでの通信を試みる|\n",
    "|port|接続先のポート番号。省略時はPostgreSQL標準の5432が指定されたものとして動く|\n"
   ]
  },
  {
   "cell_type": "markdown",
   "metadata": {
    "slideshow": {
     "slide_type": "slide"
    }
   },
   "source": [
    "### カーソルについて(cursor())\n",
    "\n",
    "カーソルはSQLを発行するために使用します。**connection.cursor()**で取得することができます。使い終わったらcloseをコールします。"
   ]
  },
  {
   "cell_type": "code",
   "execution_count": null,
   "metadata": {
    "collapsed": false,
    "slideshow": {
     "slide_type": "subslide"
    }
   },
   "outputs": [],
   "source": [
    "# カーソルをつくる\n",
    "cursor1 = connection.cursor()\n",
    "# なにかSQLの処理をcursor1で行う\n",
    "cursor1.close()"
   ]
  },
  {
   "cell_type": "markdown",
   "metadata": {
    "slideshow": {
     "slide_type": "slide"
    }
   },
   "source": [
    "cursorオブジェクトのexecuteメソッドでSQLを発行することができます。JDBCのexecute/executeQueryとは違い\n",
    "SELCT/DMLのどちらであってもexecuteが使用できます。  \n",
    "\n",
    "結果を取得する場合は、cursorオブジェクトの**fetchone/fetchmany**メソッドが使用できます"
   ]
  },
  {
   "cell_type": "code",
   "execution_count": null,
   "metadata": {
    "collapsed": false,
    "slideshow": {
     "slide_type": "subslide"
    }
   },
   "outputs": [],
   "source": [
    "cursor1 = connection.cursor()\n",
    "cursor1.execute(\"select empno,ename from emp\")\n",
    "# 1行目\n",
    "print(cursor1.fetchone())\n",
    "# 2行目\n",
    "print(cursor1.fetchone())\n",
    "# 3行目\n",
    "print(cursor1.fetchone())\n",
    "# 残りの行を一気に(20行を指定しているが、残りは11行なのでそこだけ戻る)\n",
    "print(cursor1.fetchmany(20))\n",
    "# もうないので空のリストが戻る\n",
    "print(cursor1.fetchmany(20))\n",
    "\n",
    "# 後処理\n",
    "cursor1.close()\n",
    "connection.commit()"
   ]
  },
  {
   "cell_type": "markdown",
   "metadata": {
    "slideshow": {
     "slide_type": "slide"
    }
   },
   "source": [
    "カーソルオブジェクトは**iterable**なので、そのままfor文にかけても問題ありません。\n",
    "\n"
   ]
  },
  {
   "cell_type": "code",
   "execution_count": null,
   "metadata": {
    "collapsed": false,
    "slideshow": {
     "slide_type": "subslide"
    }
   },
   "outputs": [],
   "source": [
    "cursor1 = connection.cursor()\n",
    "cursor1.execute(\"select empno,ename from emp\")\n",
    "for row in cursor1:\n",
    "    print(row)\n",
    "\n",
    "# 後処理\n",
    "connection.commit()\n",
    "cursor1.close()"
   ]
  },
  {
   "cell_type": "markdown",
   "metadata": {
    "slideshow": {
     "slide_type": "slide"
    }
   },
   "source": [
    "### 結果セットについて\n",
    "\n",
    "* デフォルトではタプルで結果が戻る\n",
    "* 正直列名をキーにしたディクショナリのほうが嬉しい時もある\n",
    "    - タプルだとインデックスでのアクセス\n",
    "    - あとで何列目がなんのデータか忘れる\n",
    "    - ディクショナリならあとで見てもわかりやすい\n",
    "    \n",
    "そんな時には**DictCursor**が便利です。"
   ]
  },
  {
   "cell_type": "code",
   "execution_count": null,
   "metadata": {
    "collapsed": false,
    "slideshow": {
     "slide_type": "subslide"
    }
   },
   "outputs": [],
   "source": [
    "# not work in sqlite.\n",
    "import psycopg2.extras\n",
    "# di\n",
    "dict_cur = connection.cursor(cursor_factory=psycopg2.extras.DictCursor)\n",
    "dict_cur.execute(\"select empno,ename from emp\")\n",
    "for row in dict_cur:\n",
    "    # 列名をキーとしてアクセスできる\n",
    "    print(\"empno is\", row[\"empno\"], \"ename is\", row[\"ename\"])\n",
    "\n",
    "connection.commit()\n",
    "dict_cur.close()"
   ]
  },
  {
   "cell_type": "markdown",
   "metadata": {
    "slideshow": {
     "slide_type": "fragment"
    }
   },
   "source": [
    "なお、pysocpg2.connection()実行時に**cursor_factory**パラメータにDictCursorを指定するとそのconnectionから\n",
    "取得されるカーソルはDictCursorになります。"
   ]
  },
  {
   "cell_type": "markdown",
   "metadata": {
    "slideshow": {
     "slide_type": "slide"
    }
   },
   "source": [
    "### 値のバインドについて\n",
    "\n",
    "Where句だけ違うSQLを発行することは多々あります。そんな時には一部だけ値を入れ替えて実行したくなります。\n",
    "psycopg2では**%s**をプレースホルダに指定します。以下はdeptnoが10、20のそれぞれのSQLを処理しています。"
   ]
  },
  {
   "cell_type": "code",
   "execution_count": null,
   "metadata": {
    "collapsed": false,
    "slideshow": {
     "slide_type": "subslide"
    }
   },
   "outputs": [],
   "source": [
    "# not work in sqlite\n",
    "# sqlite は%sではなく?をプレースホルダーに使用する\n",
    "try:\n",
    "    cursor1 = connection.cursor()\n",
    "    # deptno=の箇所だけ変数化\n",
    "    base_sql = \"select empno,ename from emp where deptno=%s\"\n",
    "    print(\"##DEPTNO=10 is.\")\n",
    "    cursor1.execute(base_sql, (10,))\n",
    "    for row in cursor1:\n",
    "        print(row)\n",
    "\n",
    "    print(\"##DEPTNO=20 is.\")\n",
    "    cursor1.execute(base_sql, (20,))\n",
    "    for row in cursor1:\n",
    "        print(row)\n",
    "finally:\n",
    "    # 後処理\n",
    "    connection.commit()\n",
    "    cursor1.close()"
   ]
  },
  {
   "cell_type": "code",
   "execution_count": null,
   "metadata": {
    "collapsed": false,
    "slideshow": {
     "slide_type": "subslide"
    }
   },
   "outputs": [],
   "source": [
    "# not work in sqlite\n",
    "# sqlite は%sではなく?をプレースホルダーに使用する\n",
    "# 名前付きプレースホルダの例\n",
    "try:\n",
    "    cursor1 = connection.cursor()\n",
    "    # deptno=の箇所だけ変数化\n",
    "    base_sql = \"select empno,ename from emp where deptno=%(dept_no)s\"\n",
    "    print(\"##DEPTNO=10 is.\")\n",
    "    cursor1.execute(base_sql, {\"dept_no\":10})\n",
    "    for row in cursor1:\n",
    "        print(row)\n",
    "\n",
    "    print(\"##DEPTNO=20 is.\")\n",
    "    cursor1.execute(base_sql, {\"dept_no\":20})\n",
    "    for row in cursor1:\n",
    "        print(row)\n",
    "finally:\n",
    "    # 後処理\n",
    "    connection.commit()\n",
    "    cursor1.close()"
   ]
  },
  {
   "cell_type": "markdown",
   "metadata": {
    "slideshow": {
     "slide_type": "slide"
    }
   },
   "source": [
    "### プレースホルダー関連の大事なこと\n",
    "\n",
    "* %sしか使いません、数字のバインドでも%dではなく%sです\n",
    "\n",
    "* バインドする方の値は必ずシーケンスオブジェクトです\n",
    "\n",
    "```\n",
    "NG: cursor1.execute(base_sql, 10)\n",
    "NG: cursor1.execute(base_sql, (10)) \n",
    "OK: cursor1.execute(base_sql, (10,))\n",
    "```\n",
    "\n",
    "そして、以下のようなコードは絶対にやってはいけません。"
   ]
  },
  {
   "cell_type": "code",
   "execution_count": 5,
   "metadata": {
    "collapsed": false,
    "slideshow": {
     "slide_type": "subslide"
    }
   },
   "outputs": [
    {
     "name": "stdout",
     "output_type": "stream",
     "text": [
      "##DEPTNO=10 is.\n",
      "(7782, 'CLARK')\n",
      "(7839, 'KING')\n",
      "(7934, 'MILLER')\n"
     ]
    }
   ],
   "source": [
    "try:\n",
    "    cursor1 = connection.cursor()\n",
    "    base_sql = \"select empno,ename from emp where deptno=\"\n",
    "    where_val = \"10\"\n",
    "    print(\"##DEPTNO=10 is.\")\n",
    "    # Pythonの文字列操作で条件文字列を変更\n",
    "    cursor1.execute(base_sql + where_val)\n",
    "    for row in cursor1:\n",
    "        print(row)\n",
    "\n",
    "finally:\n",
    "    # 後処理\n",
    "    connection.commit()\n",
    "    cursor1.close()"
   ]
  },
  {
   "cell_type": "markdown",
   "metadata": {
    "slideshow": {
     "slide_type": "subslide"
    }
   },
   "source": [
    "コードは動きますが、これは**SQLインジェクション**のリスクがあります。\n",
    "where_valがユーザのフォームから入力される文字だった場合\n",
    "\n",
    "> 10; delete from other_table;\n",
    "\n",
    "という入力をされると意図しない表を消される等、不正な操作が可能になります。  \n",
    "** かならず、%sを使用したpsycopg2自体のプレースホルダ機能を使用してください**\n"
   ]
  },
  {
   "cell_type": "markdown",
   "metadata": {
    "slideshow": {
     "slide_type": "slide"
    }
   },
   "source": [
    "### トランザクションについて\n",
    "\n",
    "RDBMSの華といえばトランザクションです。すでにサンプルでも出てきていますが、**connection.commit()**で操作を確定し\n",
    "**connection.rollback()**で操作をなかったことにします。基本的には以下のようにエラーがなければcommitし、エラーが起きれば\n",
    "rollbackするというコードになるでしょう。\n"
   ]
  },
  {
   "cell_type": "code",
   "execution_count": null,
   "metadata": {
    "collapsed": false
   },
   "outputs": [],
   "source": [
    "try:\n",
    "    cursor1 = connection.cursor()\n",
    "    base_sql = \"delete from emp where empno=%s\"\n",
    "    where_val = \"9999\"\n",
    "    print(\"##DELETE EMPNO {}\".format(where_val))\n",
    "    cursor1.execute(base_sql,(where_val,))\n",
    "    \n",
    "    # 何事もなくここまでくればCOMMIT\n",
    "    connection.commit()\n",
    "    print(\"COMMIT!\")\n",
    "except Exception as e:\n",
    "    print(e)\n",
    "    # 何か例外が起きればROLLBACK\n",
    "    connection.rollback()\n",
    "    print(\"ROLLBACK orz\")\n",
    "finally:\n",
    "    # 後処理\n",
    "    cursor1.close()"
   ]
  },
  {
   "cell_type": "markdown",
   "metadata": {
    "slideshow": {
     "slide_type": "slide"
    }
   },
   "source": [
    "### AutoCommitの話\n",
    "\n",
    "psycopg2のデフォルトはAutoCommit=Falseです。つまり、明示的にcommit/rollbackを行うまでトランザクションは終了\n",
    "しません。(connection自体をcloseすれば暗黙的にトランザクションもロールバックされます)\n",
    "\n",
    "また、psycopg2はトランザクションが開始されていない状態の最初のSQL発行時に自動でトランザクションが開始されます。\n",
    "そのため、SELECTだけ発行する処理でも明示的にCOMMITを発行しなければ、トランザクションが開いたままになります。"
   ]
  },
  {
   "cell_type": "code",
   "execution_count": null,
   "metadata": {
    "collapsed": true,
    "slideshow": {
     "slide_type": "subslide"
    }
   },
   "outputs": [],
   "source": [
    "# work in sqlite\n",
    "# SELECTだけの処理で特にCOMMITしていない\n",
    "try:\n",
    "    cursor1 = connection.cursor()\n",
    "    cursor1.execute(\"select * from emp\")\n",
    "    \n",
    "finally:\n",
    "    # 後処理\n",
    "    cursor1.close()"
   ]
  },
  {
   "cell_type": "markdown",
   "metadata": {
    "slideshow": {
     "slide_type": "subslide"
    }
   },
   "source": [
    "↑のCELLではトランザクションの終了を明示していません。そのためPostgreSQL側では**idle in transaction**というステータスになっています。\n",
    "これは、トランザクション中で何も処理をしていないことを意味します。SELECTしかしていませんので、ロック等を保持しているわけではありませんが無意味にトランザクションを長時間保持するべきではないため、SELECTだけの処理であってもSQL発行後はCOMMIT/ROLLBACKするようにしましょう。"
   ]
  },
  {
   "cell_type": "code",
   "execution_count": null,
   "metadata": {
    "collapsed": true
   },
   "outputs": [],
   "source": [
    "# 上のコードが未COMMITなのでCOMMITしておきます。\n",
    "connection.commit()"
   ]
  },
  {
   "cell_type": "markdown",
   "metadata": {
    "slideshow": {
     "slide_type": "slide"
    }
   },
   "source": [
    "都度COMMITするのが面倒な場合は、connection.autocommit=Trueを指定することで、SQL発行毎に都度COMMITが発行されるようになります。\n",
    "以下のコードは明示的にcommit/rollbackを発行していませんが、SQL発行後にはすでにCOMMITされています。\n",
    "※厳密にはトランザクションブロックがそもそも使用されていません"
   ]
  },
  {
   "cell_type": "code",
   "execution_count": null,
   "metadata": {
    "collapsed": false
   },
   "outputs": [],
   "source": [
    "# 接続情報は書き換えてください\n",
    "auto_commit_conn = psycopg2.connect(\"host=localhost port=9450 dbname=sampledb user=denzow password=passw0rd\")\n",
    "print(\"AutoCommit is\", auto_commit_conn.autocommit)\n",
    "# connectionオブジェクトのautocommit属性をTrueにするとAutoCommitが有効化される\n",
    "auto_commit_conn.autocommit = True\n",
    "print(\"AutoCommit is\", auto_commit_conn.autocommit)\n",
    "cur2 = auto_commit_conn.cursor()\n",
    "cur2.execute(\"delete from emp where empno=9999\")\n",
    "cur2.close()\n",
    "auto_commit_conn.close()\n"
   ]
  },
  {
   "cell_type": "markdown",
   "metadata": {
    "slideshow": {
     "slide_type": "slide"
    }
   },
   "source": [
    "### JSONの話"
   ]
  },
  {
   "cell_type": "markdown",
   "metadata": {
    "slideshow": {
     "slide_type": "slide"
    }
   },
   "source": [
    "最近はどこもかしこもデータ連携はJSONで行われています。スキーマレスなJSONはちょっとRDBMSと相性が悪いところがありますが\n",
    "**PostgreSQLは[JSON](https://www.postgresql.jp/document/9.4/html/datatype-json.html)をがっつりサポート**しています。 そして、**psycopg2もJSON**がちゃんと使えます。"
   ]
  },
  {
   "cell_type": "code",
   "execution_count": null,
   "metadata": {
    "collapsed": false,
    "slideshow": {
     "slide_type": "subslide"
    }
   },
   "outputs": [],
   "source": [
    "# not work in sqlite\n",
    "import datetime\n",
    "import psycopg2\n",
    "try:\n",
    "    # テーブル作成済み\n",
    "    # create table json_table(id serial, json_col json, jsonb_col jsonb);\n",
    "    \n",
    "    cursor1 = connection.cursor()\n",
    "    # DBに登録するデータ\n",
    "    bind_data = {\n",
    "        \"id\": 1, \n",
    "        \"user\": \"sayamada\",\n",
    "        \"info\": {\n",
    "                    \"price\":[100,200]\n",
    "                }\n",
    "    }\n",
    "    # JSON型、JSONB型の列にPythonのDictを登録\n",
    "    cursor1.execute(\"insert into json_table(json_col, jsonb_col) values(%s,%s)\",(\n",
    "            psycopg2.extras.Json(bind_data),\n",
    "            psycopg2.extras.Json(bind_data)\n",
    "        )\n",
    "    )\n",
    "    \n",
    "    connection.commit()\n",
    "    print(\"COMMIT!\")\n",
    "    # JSONを再度確認\n",
    "    cursor1.execute(\"select * from json_table\")\n",
    "    for row in cursor1:\n",
    "        print(type(row[0]), row[0]) # -> dict で戻っている\n",
    "        print(type(row[1]), row[1]) # -> dict で戻っている\n",
    "        \n",
    "except Exception as e:\n",
    "    # 何か例外が起きればROLLBACK\n",
    "    print(e)\n",
    "    connection.rollback()\n",
    "    print(\"ROLLBACK orz\")\n",
    "finally:\n",
    "    # 後処理\n",
    "    cursor1.close()"
   ]
  },
  {
   "cell_type": "markdown",
   "metadata": {
    "slideshow": {
     "slide_type": "slide"
    }
   },
   "source": [
    "ちなみに、ディクショナリ型をpsycopg2.extras.Jsonでキャストせずに、自動でJSON型として\n",
    "DBに登録した場合は、\n",
    "\n",
    "> psycopg2.extensions.register_adapter(dict, psycopg2.extras.Json)\n",
    "\n",
    "をすれば、OKです"
   ]
  },
  {
   "cell_type": "code",
   "execution_count": null,
   "metadata": {
    "collapsed": false,
    "slideshow": {
     "slide_type": "subslide"
    }
   },
   "outputs": [],
   "source": [
    "# not work in sqlite\n",
    "import datetime\n",
    "import psycopg2\n",
    "psycopg2.extensions.register_adapter(dict, psycopg2.extras.Json)\n",
    "try:\n",
    "    # テーブル作成済み\n",
    "    # create table json_table(id serial, json_col json, jsonb_col jsonb);\n",
    "    \n",
    "    cursor1 = connection.cursor()\n",
    "    # DBに登録するデータ\n",
    "    bind_data = {\n",
    "        \"id\": 1, \n",
    "        \"user\": \"sayamada\",\n",
    "        \"info\": {\n",
    "                    \"price\":[100,200]\n",
    "                }\n",
    "    }\n",
    "    # JSON型、JSONB型の列にPythonのDictを登録\n",
    "    cursor1.execute(\"insert into json_table(json_col, jsonb_col) values(%s,%s)\",(\n",
    "            bind_data,\n",
    "            bind_data\n",
    "        )\n",
    "    )\n",
    "    \n",
    "    connection.commit()\n",
    "    print(\"COMMIT!\")\n",
    "    # JSONを再度確認\n",
    "    cursor1.execute(\"select * from json_table\")\n",
    "    for row in cursor1:\n",
    "        print(type(row[0]), row[0]) # -> dict で戻っている\n",
    "        print(type(row[1]), row[1]) # -> dict で戻っている\n",
    "        \n",
    "except Exception as e:\n",
    "    # 何か例外が起きればROLLBACK\n",
    "    print(e)\n",
    "    connection.rollback()\n",
    "    print(\"ROLLBACK orz\")\n",
    "finally:\n",
    "    # 後処理\n",
    "    cursor1.close()"
   ]
  },
  {
   "cell_type": "markdown",
   "metadata": {
    "slideshow": {
     "slide_type": "slide"
    }
   },
   "source": [
    "### ベストプラクティス\n",
    "[ここ](http://initd.org/psycopg/docs/faq.html#best-practices)\n",
    "\n",
    "* カーソルは結果が不要になったタイミングでcloseして再作成\n",
    "* connectionは可能な限り使いまわせ\n",
    "* 結果が大きい場合は名前付きカーソルを検討せよ\n",
    "\n"
   ]
  },
  {
   "cell_type": "code",
   "execution_count": 12,
   "metadata": {
    "collapsed": false,
    "slideshow": {
     "slide_type": "subslide"
    }
   },
   "outputs": [
    {
     "name": "stdout",
     "output_type": "stream",
     "text": [
      "(1, 1, 0, '                                                                                    ')\n",
      "(2, 1, 0, '                                                                                    ')\n",
      "(3, 1, 0, '                                                                                    ')\n",
      "(4, 1, 0, '                                                                                    ')\n",
      "(5, 1, 0, '                                                                                    ')\n",
      "(6, 1, 0, '                                                                                    ')\n",
      "(7, 1, 0, '                                                                                    ')\n",
      "(8, 1, 0, '                                                                                    ')\n",
      "(9, 1, 0, '                                                                                    ')\n",
      "(10, 1, 0, '                                                                                    ')\n",
      "(11, 1, 0, '                                                                                    ')\n",
      "(12, 1, 0, '                                                                                    ')\n",
      "(13, 1, 0, '                                                                                    ')\n",
      "(14, 1, 0, '                                                                                    ')\n",
      "(15, 1, 0, '                                                                                    ')\n",
      "(16, 1, 0, '                                                                                    ')\n",
      "(17, 1, 0, '                                                                                    ')\n",
      "(18, 1, 0, '                                                                                    ')\n",
      "(19, 1, 0, '                                                                                    ')\n",
      "(20, 1, 0, '                                                                                    ')\n",
      "(21, 1, 0, '                                                                                    ')\n",
      "(22, 1, 0, '                                                                                    ')\n",
      "(23, 1, 0, '                                                                                    ')\n",
      "(24, 1, 0, '                                                                                    ')\n",
      "(25, 1, 0, '                                                                                    ')\n",
      "(26, 1, 0, '                                                                                    ')\n",
      "(27, 1, 0, '                                                                                    ')\n",
      "(28, 1, 0, '                                                                                    ')\n",
      "(29, 1, 0, '                                                                                    ')\n",
      "(30, 1, 0, '                                                                                    ')\n",
      "(31, 1, 0, '                                                                                    ')\n",
      "(32, 1, 0, '                                                                                    ')\n",
      "(33, 1, 0, '                                                                                    ')\n",
      "(34, 1, 0, '                                                                                    ')\n",
      "(35, 1, 0, '                                                                                    ')\n",
      "(36, 1, 0, '                                                                                    ')\n",
      "(37, 1, 0, '                                                                                    ')\n",
      "(38, 1, 0, '                                                                                    ')\n",
      "(39, 1, 0, '                                                                                    ')\n",
      "(40, 1, 0, '                                                                                    ')\n",
      "(41, 1, 0, '                                                                                    ')\n",
      "(42, 1, 0, '                                                                                    ')\n",
      "(43, 1, 0, '                                                                                    ')\n",
      "(44, 1, 0, '                                                                                    ')\n",
      "(45, 1, 0, '                                                                                    ')\n",
      "(46, 1, 0, '                                                                                    ')\n",
      "(47, 1, 0, '                                                                                    ')\n",
      "(48, 1, 0, '                                                                                    ')\n",
      "(49, 1, 0, '                                                                                    ')\n",
      "(50, 1, 0, '                                                                                    ')\n",
      "(51, 1, 0, '                                                                                    ')\n",
      "(52, 1, 0, '                                                                                    ')\n",
      "(53, 1, 0, '                                                                                    ')\n",
      "(54, 1, 0, '                                                                                    ')\n",
      "(55, 1, 0, '                                                                                    ')\n",
      "(56, 1, 0, '                                                                                    ')\n",
      "(57, 1, 0, '                                                                                    ')\n",
      "(58, 1, 0, '                                                                                    ')\n",
      "(59, 1, 0, '                                                                                    ')\n",
      "(60, 1, 0, '                                                                                    ')\n",
      "(61, 1, 0, '                                                                                    ')\n",
      "(62, 1, 0, '                                                                                    ')\n",
      "(63, 1, 0, '                                                                                    ')\n",
      "(64, 1, 0, '                                                                                    ')\n",
      "(65, 1, 0, '                                                                                    ')\n",
      "(66, 1, 0, '                                                                                    ')\n",
      "(67, 1, 0, '                                                                                    ')\n",
      "(68, 1, 0, '                                                                                    ')\n",
      "(69, 1, 0, '                                                                                    ')\n",
      "(70, 1, 0, '                                                                                    ')\n",
      "(71, 1, 0, '                                                                                    ')\n",
      "(72, 1, 0, '                                                                                    ')\n",
      "(73, 1, 0, '                                                                                    ')\n",
      "(74, 1, 0, '                                                                                    ')\n",
      "(75, 1, 0, '                                                                                    ')\n",
      "(76, 1, 0, '                                                                                    ')\n",
      "(77, 1, 0, '                                                                                    ')\n",
      "(78, 1, 0, '                                                                                    ')\n",
      "(79, 1, 0, '                                                                                    ')\n",
      "(80, 1, 0, '                                                                                    ')\n",
      "(81, 1, 0, '                                                                                    ')\n",
      "(82, 1, 0, '                                                                                    ')\n",
      "(83, 1, 0, '                                                                                    ')\n",
      "(84, 1, 0, '                                                                                    ')\n",
      "(85, 1, 0, '                                                                                    ')\n",
      "(86, 1, 0, '                                                                                    ')\n",
      "(87, 1, 0, '                                                                                    ')\n",
      "(88, 1, 0, '                                                                                    ')\n",
      "(89, 1, 0, '                                                                                    ')\n",
      "(90, 1, 0, '                                                                                    ')\n",
      "(91, 1, 0, '                                                                                    ')\n",
      "(92, 1, 0, '                                                                                    ')\n",
      "(93, 1, 0, '                                                                                    ')\n",
      "(94, 1, 0, '                                                                                    ')\n",
      "(95, 1, 0, '                                                                                    ')\n",
      "(96, 1, 0, '                                                                                    ')\n",
      "(97, 1, 0, '                                                                                    ')\n",
      "(98, 1, 0, '                                                                                    ')\n",
      "(99, 1, 0, '                                                                                    ')\n",
      "(100, 1, 0, '                                                                                    ')\n"
     ]
    }
   ],
   "source": [
    "# work in sqlite\n",
    "# SELECTだけの処理で特にCOMMITしていない\n",
    "try:\n",
    "    # koredak\n",
    "    cursor1 = connection.cursor(\"cursor_name\")\n",
    "    cursor1.execute(\"select * from pgbench_accounts limit 100\")\n",
    "    for row in cursor1:\n",
    "        print(row)\n",
    "finally:\n",
    "    # 後処理\n",
    "\n",
    "    \n",
    "    cursor1.close()\n",
    "    connection.commit()"
   ]
  },
  {
   "cell_type": "markdown",
   "metadata": {
    "slideshow": {
     "slide_type": "slide"
    }
   },
   "source": [
    "### 普通の場合\n",
    "\n",
    "```\n",
    "BEGIN\n",
    " select * from pgbench_accounts\n",
    "```\n",
    "\n",
    "### 名前付きカーソルの場合\n",
    "\n",
    "```\n",
    "BEGIN\n",
    "DECLARE \"cursor_name\" CURSOR WITHOUT HOLD FOR select * from pgbench_accounts\n",
    "FETCH FORWARD 2000 FROM \"cursor_name\"\n",
    "FETCH FORWARD 2000 FROM \"cursor_name\"\n",
    "FETCH FORWARD 2000 FROM \"cursor_name\"\n",
    "FETCH FORWARD 2000 FROM \"cursor_name\"\n",
    "FETCH FORWARD 2000 FROM \"cursor_name\"\n",
    "FETCH FORWARD 2000 FROM \"cursor_name\"\n",
    "FETCH FORWARD 2000 FROM \"cursor_name\"\n",
    "FETCH FORWARD 2000 FROM \"cursor_name\"\n",
    "FETCH FORWARD 2000 FROM \"cursor_name\"\n",
    ":\n",
    "```"
   ]
  },
  {
   "cell_type": "markdown",
   "metadata": {
    "slideshow": {
     "slide_type": "slide"
    }
   },
   "source": [
    "## まとめ\n",
    "\n",
    "* psycopg2があればPythonから簡単にPostgreSQLが使えます\n",
    "* PostgreSQLは積極的にJSONをサポートしたり、機能が豊富です\n",
    "* PostgreSQLは無料です\n",
    "* PostgreSQLは無料です"
   ]
  },
  {
   "cell_type": "markdown",
   "metadata": {
    "slideshow": {
     "slide_type": "fragment"
    }
   },
   "source": [
    "### みんな、PostgreSQL+Pythonでアプリ書きましょう"
   ]
  },
  {
   "cell_type": "markdown",
   "metadata": {
    "slideshow": {
     "slide_type": "slide"
    }
   },
   "source": [
    "## ご清聴ありがとうございました！\n",
    "![](./img/postgres.png)"
   ]
  }
 ],
 "metadata": {
  "celltoolbar": "Slideshow",
  "kernelspec": {
   "display_name": "Python 3",
   "language": "python",
   "name": "python3"
  },
  "language_info": {
   "codemirror_mode": {
    "name": "ipython",
    "version": 3
   },
   "file_extension": ".py",
   "mimetype": "text/x-python",
   "name": "python",
   "nbconvert_exporter": "python",
   "pygments_lexer": "ipython3",
   "version": "3.4.0"
  }
 },
 "nbformat": 4,
 "nbformat_minor": 0
}
