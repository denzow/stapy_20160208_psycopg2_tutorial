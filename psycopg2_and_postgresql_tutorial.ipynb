{
 "cells": [
  {
   "cell_type": "markdown",
   "metadata": {
    "slideshow": {
     "slide_type": "slide"
    }
   },
   "source": [
    "# pyscopg2でPythonからPostgreSQLにつないでみよう！"
   ]
  },
  {
   "cell_type": "markdown",
   "metadata": {
    "slideshow": {
     "slide_type": "slide"
    }
   },
   "source": [
    "## 自己紹介\n",
    "\n",
    "* 株式会社アシスト勤務\n",
    "* DBエンジニア\n",
    "* PostgreSQL / Oracle 担当\n",
    "* Python歴3年?\n",
    "\n"
   ]
  },
  {
   "cell_type": "markdown",
   "metadata": {
    "slideshow": {
     "slide_type": "slide"
    }
   },
   "source": [
    "## なんでこんなことに\n",
    "\n",
    "* stapy参加4回目\n",
    "* 毎回LTで適当なこと喋ってた\n",
    "\n",
    "http://www.slideshare.net/satoshiyamada71697\n",
    "<table>\n",
    "<tr>\n",
    "<td>\n",
    "<img src=\"./img/psycopg1.png\" width='250px'/>\n",
    "</td>\n",
    "<td>\n",
    "<img src=\"./img/psycopg2.png\" width='250px'/>\n",
    "</td>\n",
    "</tr>\n",
    "</table>\n",
    "\n"
   ]
  },
  {
   "cell_type": "markdown",
   "metadata": {
    "slideshow": {
     "slide_type": "slide"
    }
   },
   "source": [
    "ら、阿久津さんに目をつけられて本番でやれと。"
   ]
  },
  {
   "cell_type": "markdown",
   "metadata": {
    "slideshow": {
     "slide_type": "slide"
    }
   },
   "source": [
    "### アジェンダ\n",
    "\n",
    "1. PostgreSQL\n",
    "2. psycopg2?\n",
    "3. psycopg2のインストール\n",
    "4. 基本的な使い方\n",
    "5. ちょっとお得な使い方"
   ]
  },
  {
   "cell_type": "markdown",
   "metadata": {
    "slideshow": {
     "slide_type": "slide"
    }
   },
   "source": [
    "## PostgreSQL?\n",
    "![](./img/postgres.png)"
   ]
  },
  {
   "cell_type": "markdown",
   "metadata": {
    "slideshow": {
     "slide_type": "slide"
    }
   },
   "source": [
    "## 雑なPostgreSQLの説明\n",
    "\n",
    "* PostgreaSQLはOSSのRDBMS\n",
    "* MySQLと同じで無料で使える!\n",
    "* 有償サポートをしている会社も結構(弊社とか)\n",
    "* MySQLに比べると国内知名度は少し下？\n",
    "* でもMySQLは●racleの政策でちょっと先行き不安\n",
    "* だから、PostgreSQLもっとつかおうず！"
   ]
  },
  {
   "cell_type": "markdown",
   "metadata": {
    "slideshow": {
     "slide_type": "slide"
    }
   },
   "source": [
    "### PostgreSQLのいいところ\n",
    "\n",
    "* アーキテクチャがシンプルな割に機能が豊富(●racleは凄いけと中が複雑で。。)\n",
    "* レプリケーションも簡単\n",
    "* **json**のサポートが手厚い\n"
   ]
  },
  {
   "cell_type": "markdown",
   "metadata": {},
   "source": [
    "#### PostgreSQL動かしたい！\n",
    "\n",
    "[公式](http://www.postgresql.org/download/)から自分の環境にあったものを入手してください。  \n",
    "\n",
    "最近だとdockerやVagrantでもPostgreSQLが入ったイメージがあるので、そちらでもいいでしょう。"
   ]
  },
  {
   "cell_type": "markdown",
   "metadata": {
    "slideshow": {
     "slide_type": "slide"
    }
   },
   "source": [
    "# psycopg2\n",
    "ロゴがほんとにサイコっぽい・・・\n",
    "![](./img/psycopg2_logo.png)"
   ]
  },
  {
   "cell_type": "markdown",
   "metadata": {
    "slideshow": {
     "slide_type": "slide"
    }
   },
   "source": [
    "## Pyscopg2て？\n",
    "\n",
    "* PythonからPostgreSQLにつなぐためのアダプター\n",
    "* PythonからDBを操作する仕様DB-API 2.0準拠\n",
    "* デファクトに近い？(Djangoもdjango.db.backends.postgresql_psycopg2で使う)\n",
    "* Python2.5-2.7,3.1-3.4まで対応\n",
    "* 接続先のPostgreSQLも現在のほぼすべてのリリース対応(7.4〜)"
   ]
  },
  {
   "cell_type": "markdown",
   "metadata": {
    "slideshow": {
     "slide_type": "slide"
    }
   },
   "source": [
    "# psycopg2のインストール方法\n"
   ]
  },
  {
   "cell_type": "markdown",
   "metadata": {
    "slideshow": {
     "slide_type": "slide"
    }
   },
   "source": [
    "普通のパッケージと同じように\n",
    "\n",
    "```\n",
    "pip install psycopg2\n",
    "```\n",
    "\n",
    "で動かせることも多いですが、psycopg2はlibpqというPostgreSQLのCのライブラリに  \n",
    "依存しているので、環境によってはうまく動かないかもしれません。\n",
    "\n",
    "特に、Unix系の環境ではlibpqライブラリの参照でエラーになるケースがあります。  \n",
    "その場合はlibpq-dev python-devあたりを入れてみてください。\n",
    "\n",
    "なお、基本的なプラットフォームにはビルド済のパッケージがあるので  \n",
    "そちらを利用するほうが簡単かもしれません。"
   ]
  },
  {
   "cell_type": "markdown",
   "metadata": {
    "slideshow": {
     "slide_type": "slide"
    }
   },
   "source": [
    "\n",
    "#### Windows\n",
    "\n",
    "[ここ](http://www.stickpeople.com/projects/python/win-psycopg/) から対応するインストーラをDLしましょう。  \n",
    "自分が使っているPythonのバージョンやBit数に気をつけてください。"
   ]
  },
  {
   "cell_type": "markdown",
   "metadata": {
    "slideshow": {
     "slide_type": "slide"
    }
   },
   "source": [
    "#### Linux(Ubuntu等のDebian系)\n",
    "\n",
    "ビルドされたパッケージがリポジトリにあります。\n",
    "\n",
    "```\n",
    "sudo apt-get install python-psycopg2\n",
    "```\n"
   ]
  },
  {
   "cell_type": "markdown",
   "metadata": {
    "slideshow": {
     "slide_type": "slide"
    }
   },
   "source": [
    "#### Mac\n",
    "\n",
    "##### finkを使う場合\n",
    "```\n",
    "fink install psycopg2-py27\n",
    "```\n",
    "\n",
    "##### MacPortsを使う場合\n",
    "```\n",
    "sudo port install py27-psycopg2\n",
    "```\n"
   ]
  },
  {
   "cell_type": "markdown",
   "metadata": {
    "slideshow": {
     "slide_type": "slide"
    }
   },
   "source": [
    "# 基本的な使い方"
   ]
  },
  {
   "cell_type": "markdown",
   "metadata": {
    "slideshow": {
     "slide_type": "slide"
    }
   },
   "source": [
    "だいたいこんな感じで動かすことができます。以下は**localhost:9450**で起動している  \n",
    "**sampledb**というDBへ、**denzow**というユーザ名で**passw0rd**をパスワードとして  \n",
    "接続して処理をするコードです。"
   ]
  },
  {
   "cell_type": "code",
   "execution_count": 25,
   "metadata": {
    "collapsed": false,
    "scrolled": true,
    "slideshow": {
     "slide_type": "-"
    }
   },
   "outputs": [
    {
     "name": "stdout",
     "output_type": "stream",
     "text": [
      "(7782, 'CLARK', 'MANAGER', 7839, datetime.datetime(1981, 6, 9, 0, 0), 2450, None, 10)\n",
      "(7839, 'KING', 'PRESIDENT', None, datetime.datetime(1981, 11, 17, 0, 0), 5000, None, 10)\n",
      "(7934, 'MILLER', 'CLERK', 7782, datetime.datetime(1982, 1, 23, 0, 0), 1300, None, 10)\n"
     ]
    }
   ],
   "source": [
    "# psycopg2を使えるようにして\n",
    "import psycopg2\n",
    "# 接続して\n",
    "conn = psycopg2.connect(\"host=localhost port=9450 dbname=sampledb user=denzow password=passw0rd\")\n",
    "# SQLを投げるためのカーソル作って\n",
    "cur = conn.cursor()\n",
    "# SQLを発行\n",
    "cur.execute(\"select * from emp where deptno=%s\", (10,))\n",
    "# 結果を表示\n",
    "for row in cur:\n",
    "    print(row)\n",
    "# COMMIT!\n",
    "conn.commit()"
   ]
  },
  {
   "cell_type": "markdown",
   "metadata": {
    "slideshow": {
     "slide_type": "slide"
    }
   },
   "source": [
    "おそらく、会場の99%の方はローカルにPostgreSQLは入っていないでしょう。それでも手元で\n",
    "コードを試したい場合は、以下を実行してから試してください。  \n",
    "PostgreSQLの代わりにsqlite3のを使用するためのコードです。\n"
   ]
  },
  {
   "cell_type": "code",
   "execution_count": 88,
   "metadata": {
    "collapsed": false
   },
   "outputs": [
    {
     "name": "stdout",
     "output_type": "stream",
     "text": [
      "<sqlite3.Connection object at 0x7f16e46fac70>\n"
     ]
    }
   ],
   "source": [
    "# postgresqlが用意できない環境ではsqliteを使ってデモを動かします\n",
    "import sqlite3\n",
    "# sqliteは指定したパスにDBファイルを作成して利用します\n",
    "connection = sqlite3.connect(\"./tmp_sqlite.db\")\n",
    "# サンプルとして某EMP・DEPT表をセットアップします。\n",
    "try:\n",
    "    connection.executescript(\"\"\"\n",
    "    drop table emp;\n",
    "    drop table dept;\n",
    "    \"\"\")\n",
    "except:\n",
    "    connection.rollback()\n",
    "connection.executescript(\"\"\"\n",
    "CREATE TABLE EMP\n",
    "       (EMPNO INT NOT NULL,\n",
    "        ENAME VARCHAR(10),\n",
    "        JOB VARCHAR(9),\n",
    "        MGR INT,\n",
    "        HIREDATE TIMESTAMP,\n",
    "        SAL INT,\n",
    "        COMM INT,\n",
    "        DEPTNO INT);\n",
    "\n",
    "INSERT INTO EMP VALUES\n",
    "        (7369, 'SMITH',  'CLERK',     7902,\n",
    "        '17-DEC-1980',  800, NULL, 20);\n",
    "INSERT INTO EMP VALUES\n",
    "        (7499, 'ALLEN',  'SALESMAN',  7698,\n",
    "        '20-FEB-1981', 1600,  300, 30);\n",
    "INSERT INTO EMP VALUES\n",
    "        (7521, 'WARD',   'SALESMAN',  7698,\n",
    "        '22-FEB-1981', 1250,  500, 30);\n",
    "INSERT INTO EMP VALUES\n",
    "        (7566, 'JONES',  'MANAGER',   7839,\n",
    "        '2-APR-1981',  2975, NULL, 20);\n",
    "INSERT INTO EMP VALUES\n",
    "        (7654, 'MARTIN', 'SALESMAN',  7698,\n",
    "        '28-SEP-1981', 1250, 1400, 30);\n",
    "INSERT INTO EMP VALUES\n",
    "        (7698, 'BLAKE',  'MANAGER',   7839,\n",
    "        '1-MAY-1981',  2850, NULL, 30);\n",
    "INSERT INTO EMP VALUES\n",
    "        (7782, 'CLARK',  'MANAGER',   7839,\n",
    "        '9-JUN-1981',  2450, NULL, 10);\n",
    "INSERT INTO EMP VALUES\n",
    "        (7788, 'SCOTT',  'ANALYST',   7566,\n",
    "        '09-DEC-1982', 3000, NULL, 20);\n",
    "INSERT INTO EMP VALUES\n",
    "        (7839, 'KING',   'PRESIDENT', NULL,\n",
    "        '17-NOV-1981', 5000, NULL, 10);\n",
    "INSERT INTO EMP VALUES\n",
    "        (7844, 'TURNER', 'SALESMAN',  7698,\n",
    "        '8-SEP-1981',  1500,    0, 30);\n",
    "INSERT INTO EMP VALUES\n",
    "        (7876, 'ADAMS',  'CLERK',     7788,\n",
    "        '12-JAN-1983', 1100, NULL, 20);\n",
    "INSERT INTO EMP VALUES\n",
    "        (7900, 'JAMES',  'CLERK',     7698,\n",
    "        '3-DEC-1981',   950, NULL, 30);\n",
    "INSERT INTO EMP VALUES\n",
    "        (7902, 'FORD',   'ANALYST',   7566,\n",
    "        '3-DEC-1981',  3000, NULL, 20);\n",
    "INSERT INTO EMP VALUES\n",
    "        (7934, 'MILLER', 'CLERK',     7782,\n",
    "        '23-JAN-1982', 1300, NULL, 10);\n",
    "\n",
    "CREATE TABLE DEPT\n",
    "       (DEPTNO INT,\n",
    "        DNAME VARCHAR(14),\n",
    "        LOC VARCHAR(13));\n",
    "\n",
    "INSERT INTO DEPT VALUES (10, 'ACCOUNTING', 'NEW YORK');\n",
    "INSERT INTO DEPT VALUES (20, 'RESEARCH',   'DALLAS');\n",
    "INSERT INTO DEPT VALUES (30, 'SALES',      'CHICAGO');\n",
    "INSERT INTO DEPT VALUES (40, 'OPERATIONS', 'BOSTON');\n",
    "\"\"\")\n",
    "print(connection)"
   ]
  },
  {
   "cell_type": "markdown",
   "metadata": {
    "slideshow": {
     "slide_type": "slide"
    }
   },
   "source": [
    "PostgreSQLが用意出来ている場合は、以下を実行してください。"
   ]
  },
  {
   "cell_type": "code",
   "execution_count": 91,
   "metadata": {
    "collapsed": false
   },
   "outputs": [
    {
     "name": "stdout",
     "output_type": "stream",
     "text": [
      "<connection object at 0x7f16e41a27b8; dsn: 'host=localhost port=9450 dbname=sampledb user=denzow password=xxxxxxxx', closed: 0>\n"
     ]
    }
   ],
   "source": [
    "import psycopg2 \n",
    "# 接続情報は書き換えてください\n",
    "connection = psycopg2.connect(\"host=localhost port=9450 dbname=sampledb user=denzow password=passw0rd\")\n",
    "cur = connection.cursor()\n",
    "try:\n",
    "    cur.execute(\"\"\"\n",
    "    drop table emp;\n",
    "    drop table dept;\n",
    "    \"\"\")\n",
    "except Exception as e:\n",
    "    print(e)\n",
    "    connection.rollback()\n",
    "    \n",
    "cur.execute(\"\"\"\n",
    "CREATE TABLE EMP\n",
    "       (EMPNO INT NOT NULL,\n",
    "        ENAME VARCHAR(10),\n",
    "        JOB VARCHAR(9),\n",
    "        MGR INT,\n",
    "        HIREDATE TIMESTAMP,\n",
    "        SAL INT,\n",
    "        COMM INT,\n",
    "        DEPTNO INT);\n",
    "INSERT INTO EMP VALUES\n",
    "        (7369, 'SMITH',  'CLERK',     7902,\n",
    "        TO_DATE('17-DEC-1980', 'DD-MON-YYYY'),  800, NULL, 20);\n",
    "INSERT INTO EMP VALUES\n",
    "        (7499, 'ALLEN',  'SALESMAN',  7698,\n",
    "        TO_DATE('20-FEB-1981', 'DD-MON-YYYY'), 1600,  300, 30);\n",
    "INSERT INTO EMP VALUES\n",
    "        (7521, 'WARD',   'SALESMAN',  7698,\n",
    "        TO_DATE('22-FEB-1981', 'DD-MON-YYYY'), 1250,  500, 30);\n",
    "INSERT INTO EMP VALUES\n",
    "        (7566, 'JONES',  'MANAGER',   7839,\n",
    "        TO_DATE('2-APR-1981', 'DD-MON-YYYY'),  2975, NULL, 20);\n",
    "INSERT INTO EMP VALUES\n",
    "        (7654, 'MARTIN', 'SALESMAN',  7698,\n",
    "        TO_DATE('28-SEP-1981', 'DD-MON-YYYY'), 1250, 1400, 30);\n",
    "INSERT INTO EMP VALUES\n",
    "        (7698, 'BLAKE',  'MANAGER',   7839,\n",
    "        TO_DATE('1-MAY-1981', 'DD-MON-YYYY'),  2850, NULL, 30);\n",
    "INSERT INTO EMP VALUES\n",
    "        (7782, 'CLARK',  'MANAGER',   7839,\n",
    "        TO_DATE('9-JUN-1981', 'DD-MON-YYYY'),  2450, NULL, 10);\n",
    "INSERT INTO EMP VALUES\n",
    "        (7788, 'SCOTT',  'ANALYST',   7566,\n",
    "        TO_DATE('09-DEC-1982', 'DD-MON-YYYY'), 3000, NULL, 20);\n",
    "INSERT INTO EMP VALUES\n",
    "        (7839, 'KING',   'PRESIDENT', NULL,\n",
    "        TO_DATE('17-NOV-1981', 'DD-MON-YYYY'), 5000, NULL, 10);\n",
    "INSERT INTO EMP VALUES\n",
    "        (7844, 'TURNER', 'SALESMAN',  7698,\n",
    "        TO_DATE('8-SEP-1981', 'DD-MON-YYYY'),  1500,    0, 30);\n",
    "INSERT INTO EMP VALUES\n",
    "        (7876, 'ADAMS',  'CLERK',     7788,\n",
    "        TO_DATE('12-JAN-1983', 'DD-MON-YYYY'), 1100, NULL, 20);\n",
    "INSERT INTO EMP VALUES\n",
    "        (7900, 'JAMES',  'CLERK',     7698,\n",
    "        TO_DATE('3-DEC-1981', 'DD-MON-YYYY'),   950, NULL, 30);\n",
    "INSERT INTO EMP VALUES\n",
    "        (7902, 'FORD',   'ANALYST',   7566,\n",
    "        TO_DATE('3-DEC-1981', 'DD-MON-YYYY'),  3000, NULL, 20);\n",
    "INSERT INTO EMP VALUES\n",
    "        (7934, 'MILLER', 'CLERK',     7782,\n",
    "        TO_DATE('23-JAN-1982', 'DD-MON-YYYY'), 1300, NULL, 10);\n",
    "\n",
    "CREATE TABLE DEPT\n",
    "       (DEPTNO INT,\n",
    "        DNAME VARCHAR(14),\n",
    "        LOC VARCHAR(13));\n",
    "\n",
    "INSERT INTO DEPT VALUES (10, 'ACCOUNTING', 'NEW YORK');\n",
    "INSERT INTO DEPT VALUES (20, 'RESEARCH',   'DALLAS');\n",
    "INSERT INTO DEPT VALUES (30, 'SALES',      'CHICAGO');\n",
    "INSERT INTO DEPT VALUES (40, 'OPERATIONS', 'BOSTON');\n",
    "\"\"\")\n",
    "connection.commit()\n",
    "print(connection)"
   ]
  },
  {
   "cell_type": "markdown",
   "metadata": {
    "slideshow": {
     "slide_type": "slide"
    }
   },
   "source": [
    "#### 接続について(connect)\n",
    "\n",
    "以下を**connect()**の引数として指定できます。connectの引数は\n",
    "\n",
    "> connect(\"DB接続文字列\")\n",
    "\n",
    "という形式で文字列(DSN文字列)として情報を指定する方法と\n",
    "\n",
    "> connect(database=\"...\", host=\"\",...)\n",
    "\n",
    "といった名前付きパラメータとして渡す2種類があります。\n",
    "\n",
    "|引数名|意味|\n",
    "|----|------|\n",
    "|dbname|接続DB名。DSN文字列の時に使う|\n",
    "|database|接続DB名。名前付きパラメータの時に使う|\n",
    "|user|接続に使用するDBユーザ名|\n",
    "|password|接続に使用するDBユーザ名のパスワード|\n",
    "|host|接続先のアドレス。省略時はUNIXドメインソケットでの通信を試みる|\n",
    "|port|接続先のポート番号。省略時はPostgreSQL標準の5432が指定されたものとして動く|\n"
   ]
  },
  {
   "cell_type": "markdown",
   "metadata": {
    "slideshow": {
     "slide_type": "slide"
    }
   },
   "source": [
    "### カーソルについて(cursor())\n",
    "\n",
    "カーソルはSQLを発行するために使用します。**connection.cursor()**で取得することができます。使い終わったらcloseをコールします。"
   ]
  },
  {
   "cell_type": "code",
   "execution_count": 82,
   "metadata": {
    "collapsed": false,
    "slideshow": {
     "slide_type": "subslide"
    }
   },
   "outputs": [],
   "source": [
    "cursor1 = connection.cursor()\n",
    "# なにかSQLの処理をcursor1で行う\n",
    "cursor1.close()"
   ]
  },
  {
   "cell_type": "markdown",
   "metadata": {
    "slideshow": {
     "slide_type": "slide"
    }
   },
   "source": [
    "cursorオブジェクトのexecuteメソッドでSQLを発行することができます。JDBCのexecute/executeQueryとは違い\n",
    "SELCT/DMLのどちらであってもexecuteが使用できます。  \n",
    "\n",
    "結果を取得する場合は、cursorオブジェクトの**fetchone/fetchmany**メソッドが使用できます"
   ]
  },
  {
   "cell_type": "code",
   "execution_count": 83,
   "metadata": {
    "collapsed": false,
    "slideshow": {
     "slide_type": "subslide"
    }
   },
   "outputs": [
    {
     "name": "stdout",
     "output_type": "stream",
     "text": [
      "(7369, 'SMITH')\n",
      "(7499, 'ALLEN')\n",
      "(7521, 'WARD')\n",
      "[(7566, 'JONES'), (7654, 'MARTIN'), (7698, 'BLAKE'), (7782, 'CLARK'), (7788, 'SCOTT'), (7839, 'KING'), (7844, 'TURNER'), (7876, 'ADAMS'), (7900, 'JAMES'), (7902, 'FORD'), (7934, 'MILLER')]\n",
      "[]\n"
     ]
    }
   ],
   "source": [
    "# sqlite is ok\n",
    "\n",
    "cursor1 = connection.cursor()\n",
    "cursor1.execute(\"select empno,ename from emp\")\n",
    "# 1行目\n",
    "print(cursor1.fetchone())\n",
    "# 2行目\n",
    "print(cursor1.fetchone())\n",
    "# 3行目\n",
    "print(cursor1.fetchone())\n",
    "# 残りの行を一気に(20行を指定しているが、残りは11行なのでそこだけ戻る)\n",
    "print(cursor1.fetchmany(20))\n",
    "# もうないので空のリストが戻る\n",
    "print(cursor1.fetchmany(20))\n",
    "\n",
    "# 後処理\n",
    "cursor1.close()\n",
    "connection.commit()"
   ]
  },
  {
   "cell_type": "markdown",
   "metadata": {
    "slideshow": {
     "slide_type": "slide"
    }
   },
   "source": [
    "カーソルオブジェクトは**iterable**なので、そのままfor文にかけても問題ありません。\n",
    "\n"
   ]
  },
  {
   "cell_type": "code",
   "execution_count": 84,
   "metadata": {
    "collapsed": false,
    "slideshow": {
     "slide_type": "subslide"
    }
   },
   "outputs": [
    {
     "name": "stdout",
     "output_type": "stream",
     "text": [
      "(7369, 'SMITH')\n",
      "(7499, 'ALLEN')\n",
      "(7521, 'WARD')\n",
      "(7566, 'JONES')\n",
      "(7654, 'MARTIN')\n",
      "(7698, 'BLAKE')\n",
      "(7782, 'CLARK')\n",
      "(7788, 'SCOTT')\n",
      "(7839, 'KING')\n",
      "(7844, 'TURNER')\n",
      "(7876, 'ADAMS')\n",
      "(7900, 'JAMES')\n",
      "(7902, 'FORD')\n",
      "(7934, 'MILLER')\n"
     ]
    }
   ],
   "source": [
    "cursor1 = connection.cursor()\n",
    "cursor1.execute(\"select empno,ename from emp\")\n",
    "for row in cursor1:\n",
    "    print(row)\n",
    "\n",
    "# 後処理\n",
    "connection.commit()\n",
    "cursor1.close()"
   ]
  },
  {
   "cell_type": "markdown",
   "metadata": {
    "slideshow": {
     "slide_type": "slide"
    }
   },
   "source": [
    "### 結果セットについて\n",
    "\n",
    "* デフォルトではタプルで結果が戻る\n",
    "* 正直列名をキーにしたディクショナリのほうが嬉しい時もある\n",
    "    - タプルだとインデックスでのアクセス\n",
    "    - あとで何列目がなんのデータか忘れる\n",
    "    - ディクショナリならあとで見てもわかりやすい\n",
    "    \n",
    "そんな時には**DictCursor**が便利です。"
   ]
  },
  {
   "cell_type": "code",
   "execution_count": 85,
   "metadata": {
    "collapsed": false,
    "slideshow": {
     "slide_type": "subslide"
    }
   },
   "outputs": [
    {
     "name": "stdout",
     "output_type": "stream",
     "text": [
      "empno is 7369 ename is SMITH\n",
      "empno is 7499 ename is ALLEN\n",
      "empno is 7521 ename is WARD\n",
      "empno is 7566 ename is JONES\n",
      "empno is 7654 ename is MARTIN\n",
      "empno is 7698 ename is BLAKE\n",
      "empno is 7782 ename is CLARK\n",
      "empno is 7788 ename is SCOTT\n",
      "empno is 7839 ename is KING\n",
      "empno is 7844 ename is TURNER\n",
      "empno is 7876 ename is ADAMS\n",
      "empno is 7900 ename is JAMES\n",
      "empno is 7902 ename is FORD\n",
      "empno is 7934 ename is MILLER\n"
     ]
    }
   ],
   "source": [
    "# not work in sqlite.\n",
    "import psycopg2.extras\n",
    "# di\n",
    "dict_cur = connection.cursor(cursor_factory=psycopg2.extras.DictCursor)\n",
    "dict_cur.execute(\"select empno,ename from emp\")\n",
    "for row in dict_cur:\n",
    "    # 列名をキーとしてアクセスできる\n",
    "    print(\"empno is\", row[\"empno\"], \"ename is\", row[\"ename\"])\n",
    "\n",
    "connection.commit()\n",
    "dict_cur.close()"
   ]
  },
  {
   "cell_type": "markdown",
   "metadata": {
    "slideshow": {
     "slide_type": "fragment"
    }
   },
   "source": [
    "なお、pysocpg2.connection()実行時に**cursor_factory**パラメータにDictCursorを指定するとそのconnectionから\n",
    "取得されるカーソルはDictCursorになります。"
   ]
  },
  {
   "cell_type": "markdown",
   "metadata": {
    "slideshow": {
     "slide_type": "slide"
    }
   },
   "source": [
    "### 値のバインドについて\n",
    "\n",
    "Where句だけ違うSQLを発行することは多々あります。そんな時には一部だけ値を入れ替えて実行したくなります。\n",
    "psycopg2では**%s**をプレースホルダに指定します。以下はdeptnoが10、20のそれぞれのSQLを処理しています。"
   ]
  },
  {
   "cell_type": "code",
   "execution_count": 97,
   "metadata": {
    "collapsed": false,
    "slideshow": {
     "slide_type": "subslide"
    }
   },
   "outputs": [
    {
     "name": "stdout",
     "output_type": "stream",
     "text": [
      "##DEPTNO=10 is.\n",
      "(7782, 'CLARK')\n",
      "(7839, 'KING')\n",
      "(7934, 'MILLER')\n",
      "##DEPTNO=20 is.\n",
      "(7369, 'SMITH')\n",
      "(7566, 'JONES')\n",
      "(7788, 'SCOTT')\n",
      "(7876, 'ADAMS')\n",
      "(7902, 'FORD')\n"
     ]
    }
   ],
   "source": [
    "# not work in sqlite\n",
    "# sqlite は%sではなく?をプレースホルダーに使用する\n",
    "try:\n",
    "    cursor1 = connection.cursor()\n",
    "    # deptno=の箇所だけ変数化\n",
    "    base_sql = \"select empno,ename from emp where deptno=%s\"\n",
    "    print(\"##DEPTNO=10 is.\")\n",
    "    cursor1.execute(base_sql, (10,))\n",
    "    for row in cursor1:\n",
    "        print(row)\n",
    "\n",
    "    print(\"##DEPTNO=20 is.\")\n",
    "    cursor1.execute(base_sql, (20,))\n",
    "    for row in cursor1:\n",
    "        print(row)\n",
    "finally:\n",
    "    # 後処理\n",
    "    connection.commit()\n",
    "    cursor1.close()"
   ]
  },
  {
   "cell_type": "code",
   "execution_count": 100,
   "metadata": {
    "collapsed": false
   },
   "outputs": [
    {
     "name": "stdout",
     "output_type": "stream",
     "text": [
      "##DEPTNO=10 is.\n",
      "(7782, 'CLARK')\n",
      "(7839, 'KING')\n",
      "(7934, 'MILLER')\n",
      "##DEPTNO=20 is.\n",
      "(7369, 'SMITH')\n",
      "(7566, 'JONES')\n",
      "(7788, 'SCOTT')\n",
      "(7876, 'ADAMS')\n",
      "(7902, 'FORD')\n"
     ]
    }
   ],
   "source": [
    "# not work in sqlite\n",
    "# sqlite は%sではなく?をプレースホルダーに使用する\n",
    "# 名前付きプレースホルダの例\n",
    "try:\n",
    "    cursor1 = connection.cursor()\n",
    "    # deptno=の箇所だけ変数化\n",
    "    base_sql = \"select empno,ename from emp where deptno=%(dept_no)s\"\n",
    "    print(\"##DEPTNO=10 is.\")\n",
    "    cursor1.execute(base_sql, {\"dept_no\":10})\n",
    "    for row in cursor1:\n",
    "        print(row)\n",
    "\n",
    "    print(\"##DEPTNO=20 is.\")\n",
    "    cursor1.execute(base_sql, {\"dept_no\":20})\n",
    "    for row in cursor1:\n",
    "        print(row)\n",
    "finally:\n",
    "    # 後処理\n",
    "    connection.commit()\n",
    "    cursor1.close()"
   ]
  },
  {
   "cell_type": "markdown",
   "metadata": {
    "slideshow": {
     "slide_type": "subslide"
    }
   },
   "source": [
    "\n",
    "    "
   ]
  }
 ],
 "metadata": {
  "celltoolbar": "Slideshow",
  "kernelspec": {
   "display_name": "Python 3",
   "language": "python",
   "name": "python3"
  },
  "language_info": {
   "codemirror_mode": {
    "name": "ipython",
    "version": 3
   },
   "file_extension": ".py",
   "mimetype": "text/x-python",
   "name": "python",
   "nbconvert_exporter": "python",
   "pygments_lexer": "ipython3",
   "version": "3.4.0"
  }
 },
 "nbformat": 4,
 "nbformat_minor": 0
}
